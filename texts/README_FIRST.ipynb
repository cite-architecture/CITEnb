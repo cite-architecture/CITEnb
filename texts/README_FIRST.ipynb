{
 "cells": [
  {
   "cell_type": "markdown",
   "metadata": {},
   "source": [
    "## Read me first\n",
    "\n",
    "The following cell takes carae of all the mechanics of importing the [cite-architecture](http://cite-architecture.github.io)'s scala cite library, including the `CtsUrn` and `Cite2Urn` classes.  To start working with URNs in your own notebook, you can either clone this notebook, or copy the contents of the following cell into any Jupyter notebook.\n",
    "\n",
    "All the example notebooks in the `texts` category will have an initial cell like this."
   ]
  },
  {
   "cell_type": "code",
   "execution_count": 0,
   "metadata": {},
   "outputs": [
    {
     "name": "stdout",
     "output_type": "stream",
     "text": [
      "Downloading https://repo1.maven.org/maven2/edu/holycross/shot/cite/xcite_2.11/2.1.0/xcite_2.11-2.1.0.pom.sha1\n",
      "Downloading https://repo1.maven.org/maven2/edu/holycross/shot/cite/xcite_2.11/2.1.0/xcite_2.11-2.1.0.pom\n",
      "Downloading https://oss.sonatype.org/content/repositories/releases/edu/holycross/shot/cite/xcite_2.11/2.1.0/xcite_2.11-2.1.0.pom.sha1\n",
      "Downloading https://oss.sonatype.org/content/repositories/releases/edu/holycross/shot/cite/xcite_2.11/2.1.0/xcite_2.11-2.1.0.pom\n"
     ]
    },
    {
     "ename": "",
     "evalue": "",
     "output_type": "error",
     "traceback": [
      "\u001b[31mammonite.runtime.tools.DependencyThing$IvyResolutionException: failed to resolve dependencies:",
      "  Dependency(edu.holycross.shot.cite:xcite_2.11,2.1.0,compile,Set(),Attributes(,),false,true): not found: /Users/nsmith/.ivy2/local/edu.holycross.shot.cite/xcite_2.11/2.1.0/ivys/ivy.xml, not found: https://repo1.maven.org/maven2/edu/holycross/shot/cite/xcite_2.11/2.1.0/xcite_2.11-2.1.0.pom, not found: https://oss.sonatype.org/content/repositories/releases/edu/holycross/shot/cite/xcite_2.11/2.1.0/xcite_2.11-2.1.0.pom\u001b[39m",
      "  ammonite.runtime.tools.DependencyThing.resolveArtifact(\u001b[32mDependencyThing.scala\u001b[39m:\u001b[32m90\u001b[39m)",
      "  ammonite.interp.Interpreter.loadIvy(\u001b[32mInterpreter.scala\u001b[39m:\u001b[32m658\u001b[39m)",
      "  ammonite.runtime.ImportHook$BaseIvy$$anonfun$resolve$2.liftedTree1$1(\u001b[32mImportHook.scala\u001b[39m:\u001b[32m182\u001b[39m)",
      "  ammonite.runtime.ImportHook$BaseIvy$$anonfun$resolve$2.apply(\u001b[32mImportHook.scala\u001b[39m:\u001b[32m182\u001b[39m)",
      "  ammonite.runtime.ImportHook$BaseIvy$$anonfun$resolve$2.apply(\u001b[32mImportHook.scala\u001b[39m:\u001b[32m176\u001b[39m)",
      "  ammonite.util.Res$Success.flatMap(\u001b[32mRes.scala\u001b[39m:\u001b[32m58\u001b[39m)",
      "  ammonite.runtime.ImportHook$BaseIvy.resolve(\u001b[32mImportHook.scala\u001b[39m:\u001b[32m176\u001b[39m)",
      "  ammonite.runtime.ImportHook$BaseIvy$$anonfun$handle$4$$anonfun$apply$3.apply(\u001b[32mImportHook.scala\u001b[39m:\u001b[32m191\u001b[39m)",
      "  ammonite.runtime.ImportHook$BaseIvy$$anonfun$handle$4$$anonfun$apply$3.apply(\u001b[32mImportHook.scala\u001b[39m:\u001b[32m191\u001b[39m)",
      "  ammonite.util.Res$$anonfun$1.apply(\u001b[32mRes.scala\u001b[39m:\u001b[32m34\u001b[39m)",
      "  ammonite.util.Res$$anonfun$1.apply(\u001b[32mRes.scala\u001b[39m:\u001b[32m31\u001b[39m)",
      "  scala.collection.LinearSeqOptimized$class.foldLeft(\u001b[32mLinearSeqOptimized.scala\u001b[39m:\u001b[32m124\u001b[39m)",
      "  scala.collection.immutable.List.foldLeft(\u001b[32mList.scala\u001b[39m:\u001b[32m84\u001b[39m)",
      "  ammonite.util.Res$.map(\u001b[32mRes.scala\u001b[39m:\u001b[32m31\u001b[39m)",
      "  ammonite.runtime.ImportHook$BaseIvy$$anonfun$handle$4.apply(\u001b[32mImportHook.scala\u001b[39m:\u001b[32m191\u001b[39m)",
      "  ammonite.runtime.ImportHook$BaseIvy$$anonfun$handle$4.apply(\u001b[32mImportHook.scala\u001b[39m:\u001b[32m190\u001b[39m)",
      "  ammonite.util.Res$Success.flatMap(\u001b[32mRes.scala\u001b[39m:\u001b[32m58\u001b[39m)",
      "  ammonite.runtime.ImportHook$BaseIvy.handle(\u001b[32mImportHook.scala\u001b[39m:\u001b[32m190\u001b[39m)",
      "  ammonite.interp.Interpreter$$anonfun$resolveSingleImportHook$3.apply(\u001b[32mInterpreter.scala\u001b[39m:\u001b[32m181\u001b[39m)",
      "  ammonite.interp.Interpreter$$anonfun$resolveSingleImportHook$3.apply(\u001b[32mInterpreter.scala\u001b[39m:\u001b[32m180\u001b[39m)",
      "  ammonite.util.Res$Success.flatMap(\u001b[32mRes.scala\u001b[39m:\u001b[32m58\u001b[39m)",
      "  ammonite.interp.Interpreter.resolveSingleImportHook(\u001b[32mInterpreter.scala\u001b[39m:\u001b[32m180\u001b[39m)",
      "  ammonite.interp.Interpreter$$anonfun$resolveImportHooks$2.apply(\u001b[32mInterpreter.scala\u001b[39m:\u001b[32m229\u001b[39m)",
      "  ammonite.interp.Interpreter$$anonfun$resolveImportHooks$2.apply(\u001b[32mInterpreter.scala\u001b[39m:\u001b[32m229\u001b[39m)",
      "  ammonite.util.Res$$anonfun$1.apply(\u001b[32mRes.scala\u001b[39m:\u001b[32m34\u001b[39m)",
      "  ammonite.util.Res$$anonfun$1.apply(\u001b[32mRes.scala\u001b[39m:\u001b[32m31\u001b[39m)",
      "  scala.collection.IndexedSeqOptimized$class.foldl(\u001b[32mIndexedSeqOptimized.scala\u001b[39m:\u001b[32m57\u001b[39m)",
      "  scala.collection.IndexedSeqOptimized$class.foldLeft(\u001b[32mIndexedSeqOptimized.scala\u001b[39m:\u001b[32m66\u001b[39m)",
      "  scala.collection.mutable.ArrayBuffer.foldLeft(\u001b[32mArrayBuffer.scala\u001b[39m:\u001b[32m48\u001b[39m)",
      "  ammonite.util.Res$.map(\u001b[32mRes.scala\u001b[39m:\u001b[32m31\u001b[39m)",
      "  ammonite.interp.Interpreter.resolveImportHooks(\u001b[32mInterpreter.scala\u001b[39m:\u001b[32m229\u001b[39m)",
      "  ammonite.interp.Interpreter$$anonfun$processLine$2.apply(\u001b[32mInterpreter.scala\u001b[39m:\u001b[32m243\u001b[39m)",
      "  ammonite.interp.Interpreter$$anonfun$processLine$2.apply(\u001b[32mInterpreter.scala\u001b[39m:\u001b[32m239\u001b[39m)",
      "  ammonite.util.Catching.flatMap(\u001b[32mRes.scala\u001b[39m:\u001b[32m109\u001b[39m)",
      "  ammonite.interp.Interpreter.processLine(\u001b[32mInterpreter.scala\u001b[39m:\u001b[32m239\u001b[39m)",
      "  jupyter.scala.Interp$$anonfun$8$$anonfun$apply$10$$anonfun$apply$11.apply(\u001b[32mInterp.scala\u001b[39m:\u001b[32m145\u001b[39m)",
      "  jupyter.scala.Interp$$anonfun$8$$anonfun$apply$10$$anonfun$apply$11.apply(\u001b[32mInterp.scala\u001b[39m:\u001b[32m144\u001b[39m)",
      "  jupyter.scala.Capture$$anonfun$jupyter$scala$Capture$$withErr$1.apply(\u001b[32mCapture.scala\u001b[39m:\u001b[32m46\u001b[39m)",
      "  scala.util.DynamicVariable.withValue(\u001b[32mDynamicVariable.scala\u001b[39m:\u001b[32m58\u001b[39m)",
      "  scala.Console$.withErr(\u001b[32mConsole.scala\u001b[39m:\u001b[32m80\u001b[39m)",
      "  jupyter.scala.Capture$.jupyter$scala$Capture$$withErr(\u001b[32mCapture.scala\u001b[39m:\u001b[32m42\u001b[39m)",
      "  jupyter.scala.Capture$$anonfun$3.apply(\u001b[32mCapture.scala\u001b[39m:\u001b[32m59\u001b[39m)",
      "  jupyter.scala.Capture$$anonfun$withOut$1.apply(\u001b[32mCapture.scala\u001b[39m:\u001b[32m37\u001b[39m)",
      "  scala.util.DynamicVariable.withValue(\u001b[32mDynamicVariable.scala\u001b[39m:\u001b[32m58\u001b[39m)",
      "  scala.Console$.withOut(\u001b[32mConsole.scala\u001b[39m:\u001b[32m53\u001b[39m)",
      "  jupyter.scala.Capture$.withOut(\u001b[32mCapture.scala\u001b[39m:\u001b[32m33\u001b[39m)",
      "  jupyter.scala.Capture$.withOutAndErr(\u001b[32mCapture.scala\u001b[39m:\u001b[32m59\u001b[39m)",
      "  jupyter.scala.Capture$.apply(\u001b[32mCapture.scala\u001b[39m:\u001b[32m106\u001b[39m)",
      "  jupyter.scala.Interp.jupyter$scala$Interp$$capturingOutput(\u001b[32mInterp.scala\u001b[39m:\u001b[32m102\u001b[39m)",
      "  jupyter.scala.Interp$$anonfun$8$$anonfun$apply$10.apply(\u001b[32mInterp.scala\u001b[39m:\u001b[32m144\u001b[39m)",
      "  jupyter.scala.Interp$$anonfun$8$$anonfun$apply$10.apply(\u001b[32mInterp.scala\u001b[39m:\u001b[32m140\u001b[39m)",
      "  jupyter.scala.Scoped$$anonfun$flatMap$1.apply(\u001b[32mSignaller.scala\u001b[39m:\u001b[32m45\u001b[39m)",
      "  jupyter.scala.Signaller.apply(\u001b[32mSignaller.scala\u001b[39m:\u001b[32m30\u001b[39m)",
      "  jupyter.scala.Scoped$class.flatMap(\u001b[32mSignaller.scala\u001b[39m:\u001b[32m45\u001b[39m)",
      "  jupyter.scala.Signaller.flatMap(\u001b[32mSignaller.scala\u001b[39m:\u001b[32m12\u001b[39m)",
      "  jupyter.scala.Interp$$anonfun$8.apply(\u001b[32mInterp.scala\u001b[39m:\u001b[32m140\u001b[39m)",
      "  jupyter.scala.Interp$$anonfun$8.apply(\u001b[32mInterp.scala\u001b[39m:\u001b[32m131\u001b[39m)",
      "  ammonite.util.Res$Success.flatMap(\u001b[32mRes.scala\u001b[39m:\u001b[32m58\u001b[39m)",
      "  jupyter.scala.Interp.interpret(\u001b[32mInterp.scala\u001b[39m:\u001b[32m131\u001b[39m)",
      "  jupyter.kernel.interpreter.InterpreterHandler$$anonfun$jupyter$kernel$interpreter$InterpreterHandler$$execute$1$$anonfun$apply$6.apply(\u001b[32mInterpreterHandler.scala\u001b[39m:\u001b[32m112\u001b[39m)",
      "  jupyter.kernel.interpreter.InterpreterHandler$$anonfun$jupyter$kernel$interpreter$InterpreterHandler$$execute$1$$anonfun$apply$6.apply(\u001b[32mInterpreterHandler.scala\u001b[39m:\u001b[32m94\u001b[39m)",
      "  jupyter.kernel.interpreter.InterpreterHandler$$anonfun$jupyter$kernel$interpreter$InterpreterHandler$$publishing$1$$anonfun$2.apply(\u001b[32mInterpreterHandler.scala\u001b[39m:\u001b[32m59\u001b[39m)",
      "  jupyter.kernel.interpreter.InterpreterHandler$$anonfun$jupyter$kernel$interpreter$InterpreterHandler$$publishing$1$$anonfun$2.apply(\u001b[32mInterpreterHandler.scala\u001b[39m:\u001b[32m59\u001b[39m)",
      "  scalaz.concurrent.Task$.Try(\u001b[32mTask.scala\u001b[39m:\u001b[32m457\u001b[39m)",
      "  scalaz.concurrent.Task$$anonfun$unsafeStart$1.apply(\u001b[32mTask.scala\u001b[39m:\u001b[32m363\u001b[39m)",
      "  scalaz.concurrent.Task$$anonfun$unsafeStart$1.apply(\u001b[32mTask.scala\u001b[39m:\u001b[32m363\u001b[39m)",
      "  scalaz.concurrent.Future$$anonfun$apply$15$$anon$3.call(\u001b[32mFuture.scala\u001b[39m:\u001b[32m432\u001b[39m)",
      "  scalaz.concurrent.Future$$anonfun$apply$15$$anon$3.call(\u001b[32mFuture.scala\u001b[39m:\u001b[32m432\u001b[39m)",
      "  java.util.concurrent.FutureTask.run(\u001b[32mFutureTask.java\u001b[39m:\u001b[32m266\u001b[39m)",
      "  java.util.concurrent.ThreadPoolExecutor.runWorker(\u001b[32mThreadPoolExecutor.java\u001b[39m:\u001b[32m1142\u001b[39m)",
      "  java.util.concurrent.ThreadPoolExecutor$Worker.run(\u001b[32mThreadPoolExecutor.java\u001b[39m:\u001b[32m617\u001b[39m)",
      "  java.lang.Thread.run(\u001b[32mThread.java\u001b[39m:\u001b[32m745\u001b[39m)"
     ]
    }
   ],
   "source": [
    "import Resolvers._\n",
    "val citerepo = Resolver.Http(\"neelsmith at bintray\",\"http://dl.bintray.com/neelsmith/maven\",MavenPattern,true)\n",
    "interp.resolvers() = interp.resolvers() :+ citerepo\n",
    "\n",
    "import $ivy.`edu.holycross.shot.cite::xcite:2.1.0`\n",
    "import edu.holycross.shot.cite._"
   ]
  },
  {
   "cell_type": "code",
   "execution_count": null,
   "metadata": {
    "collapsed": true
   },
   "outputs": [],
   "source": []
  }
 ],
 "metadata": {
  "kernelspec": {
   "display_name": "Scala",
   "language": "scala",
   "name": "scala"
  },
  "language_info": {
   "codemirror_mode": "text/x-scala",
   "file_extension": ".scala",
   "mimetype": "text/x-scala",
   "name": "scala211",
   "nbconvert_exporter": "script",
   "pygments_lexer": "scala",
   "version": "2.11.11"
  }
 },
 "nbformat": 4,
 "nbformat_minor": 2
}
